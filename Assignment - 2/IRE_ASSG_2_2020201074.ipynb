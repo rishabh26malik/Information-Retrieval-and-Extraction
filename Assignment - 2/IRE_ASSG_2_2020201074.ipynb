{
  "nbformat": 4,
  "nbformat_minor": 0,
  "metadata": {
    "colab": {
      "name": "IRE-ASSG-2.ipynb",
      "provenance": [],
      "collapsed_sections": []
    },
    "kernelspec": {
      "name": "python3",
      "display_name": "Python 3"
    },
    "language_info": {
      "name": "python"
    }
  },
  "cells": [
    {
      "cell_type": "code",
      "metadata": {
        "colab": {
          "base_uri": "https://localhost:8080/"
        },
        "id": "_P3DrxK9WNod",
        "outputId": "7e1b5104-ac58-4815-d960-e18107b09b00"
      },
      "source": [
        "!pip install sparqlwrapper\n",
        "# https://rdflib.github.io/sparqlwrapper/\n",
        "\n"
      ],
      "execution_count": null,
      "outputs": [
        {
          "output_type": "stream",
          "name": "stdout",
          "text": [
            "Requirement already satisfied: sparqlwrapper in /usr/local/lib/python3.7/dist-packages (1.8.5)\n",
            "Requirement already satisfied: rdflib>=4.0 in /usr/local/lib/python3.7/dist-packages (from sparqlwrapper) (6.0.2)\n",
            "Requirement already satisfied: pyparsing in /usr/local/lib/python3.7/dist-packages (from rdflib>=4.0->sparqlwrapper) (2.4.7)\n",
            "Requirement already satisfied: setuptools in /usr/local/lib/python3.7/dist-packages (from rdflib>=4.0->sparqlwrapper) (57.4.0)\n",
            "Requirement already satisfied: isodate in /usr/local/lib/python3.7/dist-packages (from rdflib>=4.0->sparqlwrapper) (0.6.0)\n",
            "Requirement already satisfied: six in /usr/local/lib/python3.7/dist-packages (from isodate->rdflib>=4.0->sparqlwrapper) (1.15.0)\n"
          ]
        }
      ]
    },
    {
      "cell_type": "code",
      "metadata": {
        "id": "UUNIt1f0MXIS"
      },
      "source": [
        "import sys\n",
        "from SPARQLWrapper import SPARQLWrapper, JSON\n",
        "import numpy as np\n",
        "from tabulate import tabulate\n"
      ],
      "execution_count": null,
      "outputs": []
    },
    {
      "cell_type": "code",
      "metadata": {
        "id": "QRer6uNqMZUL"
      },
      "source": [
        "endpoint_url = \"https://query.wikidata.org/sparql\""
      ],
      "execution_count": null,
      "outputs": []
    },
    {
      "cell_type": "code",
      "metadata": {
        "id": "6j3Luts6Mbxj"
      },
      "source": [
        "def get_results(endpoint_url, query):\n",
        "    user_agent = \"WDQS-example Python/%s.%s\" % (sys.version_info[0], sys.version_info[1])\n",
        "    # TODO adjust user agent; see https://w.wiki/CX6\n",
        "    sparql = SPARQLWrapper(endpoint_url, agent=user_agent)\n",
        "    sparql.setQuery(query)\n",
        "    sparql.setReturnFormat(JSON)\n",
        "    return sparql.query().convert()"
      ],
      "execution_count": null,
      "outputs": []
    },
    {
      "cell_type": "markdown",
      "metadata": {
        "id": "OGha48ALbdbS"
      },
      "source": [
        "# List of 10 **MOST** populated countries and  their capital(s)"
      ]
    },
    {
      "cell_type": "code",
      "metadata": {
        "id": "CCU_YOfQJ6nc"
      },
      "source": [
        "query = \"\"\"\n",
        "\n",
        "SELECT DISTINCT  ?countryLabel  ?capitalLabel ?population\n",
        "WHERE\n",
        "{\n",
        "  ?country wdt:P31 wd:Q3624078 ;\n",
        "           wdt:P1082 ?population .\n",
        "  #not a former country\n",
        "  FILTER NOT EXISTS {?country wdt:P31 wd:Q3024240}\n",
        "  #and no an ancient civilisation (needed to exclude ancient Egypt)\n",
        "  FILTER NOT EXISTS {?country wdt:P31 wd:Q28171280}\n",
        "  OPTIONAL { ?country wdt:P36 ?capital } .\n",
        "\n",
        "  SERVICE wikibase:label { bd:serviceParam wikibase:language \"hi\" }\n",
        "}\n",
        "ORDER BY DESC(?population)\n",
        "LIMIT 10\n",
        "\"\"\"\n",
        "\n",
        "results = get_results(endpoint_url, query)\n"
      ],
      "execution_count": null,
      "outputs": []
    },
    {
      "cell_type": "code",
      "metadata": {
        "colab": {
          "base_uri": "https://localhost:8080/"
        },
        "id": "BT7s5u8XeztT",
        "outputId": "9390ffd5-c410-4649-ab96-5f5118e14520"
      },
      "source": [
        "results"
      ],
      "execution_count": null,
      "outputs": [
        {
          "output_type": "execute_result",
          "data": {
            "text/plain": [
              "{'head': {'vars': ['countryLabel', 'capitalLabel', 'population']},\n",
              " 'results': {'bindings': [{'capitalLabel': {'type': 'literal',\n",
              "     'value': 'बीजिंग',\n",
              "     'xml:lang': 'hi'},\n",
              "    'countryLabel': {'type': 'literal',\n",
              "     'value': 'चीनी जनवादी गणराज्य',\n",
              "     'xml:lang': 'hi'},\n",
              "    'population': {'datatype': 'http://www.w3.org/2001/XMLSchema#decimal',\n",
              "     'type': 'literal',\n",
              "     'value': '1443497378'}},\n",
              "   {'capitalLabel': {'type': 'literal',\n",
              "     'value': 'नई दिल्ली',\n",
              "     'xml:lang': 'hi'},\n",
              "    'countryLabel': {'type': 'literal', 'value': 'भारत', 'xml:lang': 'hi'},\n",
              "    'population': {'datatype': 'http://www.w3.org/2001/XMLSchema#decimal',\n",
              "     'type': 'literal',\n",
              "     'value': '1326093247'}},\n",
              "   {'capitalLabel': {'type': 'literal',\n",
              "     'value': 'वॉशिंगटन डी॰ सी॰',\n",
              "     'xml:lang': 'hi'},\n",
              "    'countryLabel': {'type': 'literal',\n",
              "     'value': 'संयुक्त राज्य अमेरिका',\n",
              "     'xml:lang': 'hi'},\n",
              "    'population': {'datatype': 'http://www.w3.org/2001/XMLSchema#decimal',\n",
              "     'type': 'literal',\n",
              "     'value': '331449281'}},\n",
              "   {'capitalLabel': {'type': 'literal', 'value': 'जकार्ता', 'xml:lang': 'hi'},\n",
              "    'countryLabel': {'type': 'literal',\n",
              "     'value': 'इंडोनेशिया',\n",
              "     'xml:lang': 'hi'},\n",
              "    'population': {'datatype': 'http://www.w3.org/2001/XMLSchema#decimal',\n",
              "     'type': 'literal',\n",
              "     'value': '270625568'}},\n",
              "   {'capitalLabel': {'type': 'literal',\n",
              "     'value': 'इस्लामाबाद',\n",
              "     'xml:lang': 'hi'},\n",
              "    'countryLabel': {'type': 'literal',\n",
              "     'value': 'पाकिस्तान',\n",
              "     'xml:lang': 'hi'},\n",
              "    'population': {'datatype': 'http://www.w3.org/2001/XMLSchema#decimal',\n",
              "     'type': 'literal',\n",
              "     'value': '216565318'}},\n",
              "   {'capitalLabel': {'type': 'literal',\n",
              "     'value': 'ब्रासीलिया',\n",
              "     'xml:lang': 'hi'},\n",
              "    'countryLabel': {'type': 'literal', 'value': 'ब्राज़ील', 'xml:lang': 'hi'},\n",
              "    'population': {'datatype': 'http://www.w3.org/2001/XMLSchema#decimal',\n",
              "     'type': 'literal',\n",
              "     'value': '213317639'}},\n",
              "   {'capitalLabel': {'type': 'literal', 'value': 'अबुजा', 'xml:lang': 'hi'},\n",
              "    'countryLabel': {'type': 'literal',\n",
              "     'value': 'नाईजीरिया',\n",
              "     'xml:lang': 'hi'},\n",
              "    'population': {'datatype': 'http://www.w3.org/2001/XMLSchema#decimal',\n",
              "     'type': 'literal',\n",
              "     'value': '190886311'}},\n",
              "   {'capitalLabel': {'type': 'literal', 'value': 'ढाका', 'xml:lang': 'hi'},\n",
              "    'countryLabel': {'type': 'literal',\n",
              "     'value': 'बांग्लादेश',\n",
              "     'xml:lang': 'hi'},\n",
              "    'population': {'datatype': 'http://www.w3.org/2001/XMLSchema#decimal',\n",
              "     'type': 'literal',\n",
              "     'value': '165775000'}},\n",
              "   {'capitalLabel': {'type': 'literal', 'value': 'मास्को', 'xml:lang': 'hi'},\n",
              "    'countryLabel': {'type': 'literal', 'value': 'रूस', 'xml:lang': 'hi'},\n",
              "    'population': {'datatype': 'http://www.w3.org/2001/XMLSchema#decimal',\n",
              "     'type': 'literal',\n",
              "     'value': '146804372'}},\n",
              "   {'capitalLabel': {'type': 'literal', 'value': 'टोक्यो', 'xml:lang': 'hi'},\n",
              "    'countryLabel': {'type': 'literal', 'value': 'जापान', 'xml:lang': 'hi'},\n",
              "    'population': {'datatype': 'http://www.w3.org/2001/XMLSchema#decimal',\n",
              "     'type': 'literal',\n",
              "     'value': '126434565'}}]}}"
            ]
          },
          "metadata": {},
          "execution_count": 106
        }
      ]
    },
    {
      "cell_type": "code",
      "metadata": {
        "id": "7TpNKuynM83q"
      },
      "source": [
        "\n",
        "top_10 = []\n",
        "top_10_pop_country = results['results']['bindings']\n",
        "for item in top_10_pop_country:\n",
        "    country = item['countryLabel']['value']\n",
        "    capital = item['capitalLabel']['value']\n",
        "    population = item['population']['value']\n",
        "    top_10.append([country, capital, population])\n",
        "    "
      ],
      "execution_count": null,
      "outputs": []
    },
    {
      "cell_type": "code",
      "metadata": {
        "colab": {
          "base_uri": "https://localhost:8080/"
        },
        "id": "ytCZnpMvTlUN",
        "outputId": "617d6859-e8c6-481b-ab6b-adaed3510f1b"
      },
      "source": [
        " print(tabulate(top_10, headers=['COUNTRY', 'CAPITAL', 'COUNTRY POPULATION']))"
      ],
      "execution_count": null,
      "outputs": [
        {
          "output_type": "stream",
          "name": "stdout",
          "text": [
            "COUNTRY             CAPITAL            COUNTRY POPULATION\n",
            "------------------  ---------------  --------------------\n",
            "चीनी जनवादी गणराज्य  बीजिंग                      1443497378\n",
            "भारत                नई दिल्ली                   1326093247\n",
            "संयुक्त राज्य अमेरिका    वॉशिंगटन डी॰ सी॰             331449281\n",
            "इंडोनेशिया            जकार्ता                      270625568\n",
            "पाकिस्तान            इस्लामाबाद                   216565318\n",
            "ब्राज़ील              ब्रासीलिया                   213317639\n",
            "नाईजीरिया           अबुजा                        190886311\n",
            "बांग्लादेश             ढाका                        165775000\n",
            "रूस                  मास्को                       146804372\n",
            "जापान               टोक्यो                       126434565\n"
          ]
        }
      ]
    },
    {
      "cell_type": "code",
      "metadata": {
        "id": "28sharaeUFBZ",
        "colab": {
          "base_uri": "https://localhost:8080/"
        },
        "outputId": "60ab7767-9de3-4556-908b-1a1ec69f41b1"
      },
      "source": [
        "text1 = 'दुनिया में कुछ सबसे बड़ी आबादी वाले देश हैं '\n",
        "text2 = ''\n",
        "top_10 = []\n",
        "top_10_pop_country = results['results']['bindings']\n",
        "for idx, item in enumerate(top_10_pop_country):\n",
        "    \n",
        "    country = item['countryLabel']['value']\n",
        "    capital = item['capitalLabel']['value']\n",
        "    population = item['population']['value']\n",
        "    \n",
        "    if idx == len(top_10_pop_country)-1:\n",
        "        text1 +=  country + \"।\"\n",
        "    elif idx == len(top_10_pop_country)-2:\n",
        "        text1 +=  country + \" और \"\n",
        "    else:\n",
        "        text1 +=  country + \", \"\n",
        "    text2 += country + \" की आबादी लगभग \" + population + \" है और इसकी राजधानी \" + capital + \" है।\\n\"\n",
        "print(text1)\n",
        "print(text2)"
      ],
      "execution_count": null,
      "outputs": [
        {
          "output_type": "stream",
          "name": "stdout",
          "text": [
            "दुनिया में कुछ सबसे बड़ी आबादी वाले देश हैं चीनी जनवादी गणराज्य, भारत, संयुक्त राज्य अमेरिका, इंडोनेशिया, पाकिस्तान, ब्राज़ील, नाईजीरिया, बांग्लादेश, रूस और जापान।\n",
            "चीनी जनवादी गणराज्य की आबादी लगभग 1443497378 है और इसकी राजधानी बीजिंग है।\n",
            "भारत की आबादी लगभग 1326093247 है और इसकी राजधानी नई दिल्ली है।\n",
            "संयुक्त राज्य अमेरिका की आबादी लगभग 331449281 है और इसकी राजधानी वॉशिंगटन डी॰ सी॰ है।\n",
            "इंडोनेशिया की आबादी लगभग 270625568 है और इसकी राजधानी जकार्ता है।\n",
            "पाकिस्तान की आबादी लगभग 216565318 है और इसकी राजधानी इस्लामाबाद है।\n",
            "ब्राज़ील की आबादी लगभग 213317639 है और इसकी राजधानी ब्रासीलिया है।\n",
            "नाईजीरिया की आबादी लगभग 190886311 है और इसकी राजधानी अबुजा है।\n",
            "बांग्लादेश की आबादी लगभग 165775000 है और इसकी राजधानी ढाका है।\n",
            "रूस की आबादी लगभग 146804372 है और इसकी राजधानी मास्को है।\n",
            "जापान की आबादी लगभग 126434565 है और इसकी राजधानी टोक्यो है।\n",
            "\n"
          ]
        }
      ]
    },
    {
      "cell_type": "markdown",
      "metadata": {
        "id": "YFg5FNz9btIe"
      },
      "source": [
        "# List of 10 **LEAST** populated countries and  their capital(s)"
      ]
    },
    {
      "cell_type": "code",
      "metadata": {
        "id": "ZEAbQdPaMmd6"
      },
      "source": [
        "query = \"\"\"\n",
        "#List of present-day countries and capital(s)\n",
        "SELECT DISTINCT  ?countryLabel  ?capitalLabel ?population\n",
        "WHERE\n",
        "{\n",
        "  ?country wdt:P31 wd:Q3624078 ;\n",
        "           wdt:P1082 ?population .\n",
        "  #not a former country\n",
        "  FILTER NOT EXISTS {?country wdt:P31 wd:Q3024240}\n",
        "  #and no an ancient civilisation (needed to exclude ancient Egypt)\n",
        "  FILTER NOT EXISTS {?country wdt:P31 wd:Q28171280}\n",
        "  OPTIONAL { ?country wdt:P36 ?capital } .\n",
        "\n",
        "  SERVICE wikibase:label { bd:serviceParam wikibase:language \"hi\" }\n",
        "}\n",
        "ORDER BY ?population\n",
        "LIMIT 11\n",
        "\"\"\"\n",
        "\n",
        "results = get_results(endpoint_url, query)\n"
      ],
      "execution_count": null,
      "outputs": []
    },
    {
      "cell_type": "code",
      "metadata": {
        "id": "ttv-9Q9eQqRs"
      },
      "source": [
        "\n",
        "top_10 = []\n",
        "top_10_pop_country = results['results']['bindings']\n",
        "for item in top_10_pop_country[1:]:\n",
        "    country = item['countryLabel']['value']\n",
        "    capital = item['capitalLabel']['value']\n",
        "    population = item['population']['value']\n",
        "    top_10.append([country, capital, population])\n",
        "    "
      ],
      "execution_count": null,
      "outputs": []
    },
    {
      "cell_type": "code",
      "metadata": {
        "colab": {
          "base_uri": "https://localhost:8080/"
        },
        "id": "gP-X0mtZQs2q",
        "outputId": "efabdc68-4b3c-4f33-e927-04627554b808"
      },
      "source": [
        " print(tabulate(top_10, headers=['COUNTRY', 'CAPITAL', 'COUNTRY POPULATION']))"
      ],
      "execution_count": null,
      "outputs": [
        {
          "output_type": "stream",
          "name": "stdout",
          "text": [
            "COUNTRY           CAPITAL          COUNTRY POPULATION\n",
            "----------------  -------------  --------------------\n",
            "तुवालू              फुनाफुति                        11192\n",
            "नौरु               यारेन जिला                     13650\n",
            "पलाउ              ञुरूलमुड                         21729\n",
            "सान मारिनो        सैन मारिनो नगर                 33400\n",
            "लिक्टेन्स्टाइन        वादुज़                          37922\n",
            "मोनैको             Q55115                        38695\n",
            "मार्शल द्वीपसमूह     माजुरो                         53127\n",
            "सन्त किट्स और नेविस  बासेटेयर                        55345\n",
            "डोमिनिका          रोसीयू                         73925\n",
            "अण्डोरा            अण्डोरा ला वेला                 78151\n"
          ]
        }
      ]
    },
    {
      "cell_type": "code",
      "metadata": {
        "colab": {
          "base_uri": "https://localhost:8080/"
        },
        "id": "fRwotZJwVx9s",
        "outputId": "0e7a436d-9008-4f04-f13b-c980c3ce84ff"
      },
      "source": [
        "text1 = 'दुनिया में कुछ सबसे कम आबादी वाले देश हैं '\n",
        "text2 = ''\n",
        "top_10 = []\n",
        "top_10_pop_country = results['results']['bindings']\n",
        "for idx, item in enumerate(top_10_pop_country[1:]):\n",
        "    \n",
        "    country = item['countryLabel']['value']\n",
        "    capital = item['capitalLabel']['value']\n",
        "    population = item['population']['value']\n",
        "    \n",
        "    if idx == len(top_10_pop_country[1:])-1:\n",
        "        text1 +=  country + \"।\"\n",
        "    elif idx == len(top_10_pop_country[1:])-2:\n",
        "        text1 +=  country + \" और \"\n",
        "    else:\n",
        "        text1 +=  country + \", \"\n",
        "    text2 += country + \" की आबादी लगभग \" + population + \" है और इसकी राजधानी \" + capital + \" है।\\n\"\n",
        "print(text1)\n",
        "print(text2)"
      ],
      "execution_count": null,
      "outputs": [
        {
          "output_type": "stream",
          "name": "stdout",
          "text": [
            "दुनिया में कुछ सबसे कम आबादी वाले देश हैं तुवालू, नौरु, पलाउ, सान मारिनो, लिक्टेन्स्टाइन, मोनैको, मार्शल द्वीपसमूह, सन्त किट्स और नेविस, डोमिनिका और अण्डोरा।\n",
            "तुवालू की आबादी लगभग 11192 है और इसकी राजधानी फुनाफुति है।\n",
            "नौरु की आबादी लगभग 13650 है और इसकी राजधानी यारेन जिला है।\n",
            "पलाउ की आबादी लगभग 21729 है और इसकी राजधानी ञुरूलमुड है।\n",
            "सान मारिनो की आबादी लगभग 33400 है और इसकी राजधानी सैन मारिनो नगर है।\n",
            "लिक्टेन्स्टाइन की आबादी लगभग 37922 है और इसकी राजधानी वादुज़ है।\n",
            "मोनैको की आबादी लगभग 38695 है और इसकी राजधानी Q55115 है।\n",
            "मार्शल द्वीपसमूह की आबादी लगभग 53127 है और इसकी राजधानी माजुरो है।\n",
            "सन्त किट्स और नेविस की आबादी लगभग 55345 है और इसकी राजधानी बासेटेयर है।\n",
            "डोमिनिका की आबादी लगभग 73925 है और इसकी राजधानी रोसीयू है।\n",
            "अण्डोरा की आबादी लगभग 78151 है और इसकी राजधानी अण्डोरा ला वेला है।\n",
            "\n"
          ]
        }
      ]
    },
    {
      "cell_type": "markdown",
      "metadata": {
        "id": "7HYoD1jyb1W4"
      },
      "source": [
        "# List of 10 **MOST** populated CITIES"
      ]
    },
    {
      "cell_type": "code",
      "metadata": {
        "id": "KmVv_uH9KMUz"
      },
      "source": [
        "\n",
        "query = \"\"\"#Largest cities of the world\n",
        "#defaultView:BubbleChart\n",
        "SELECT DISTINCT ?cityLabel ?population \n",
        "WHERE\n",
        "{\n",
        "  ?city wdt:P31/wdt:P279* wd:Q515 .\n",
        "  ?city wdt:P1082 ?population .\n",
        "  SERVICE wikibase:label {\n",
        "    bd:serviceParam wikibase:language \"hi\" .\n",
        "  }\n",
        "}\n",
        "ORDER BY DESC(?population) \n",
        "LIMIT 10\"\"\"\n",
        "\n",
        "results = get_results(endpoint_url, query)\n"
      ],
      "execution_count": null,
      "outputs": []
    },
    {
      "cell_type": "code",
      "metadata": {
        "colab": {
          "base_uri": "https://localhost:8080/"
        },
        "id": "WPPNnqMYRyok",
        "outputId": "f03a8d2c-7e7f-4192-9549-b35e7dfa57de"
      },
      "source": [
        "top_10_cities = []\n",
        "top_10_cities_data = results['results']['bindings']\n",
        "for item in top_10_cities_data[1:]:\n",
        "    city = item['cityLabel']['value']\n",
        "    population = item['population']['value']\n",
        "    top_10_cities.append([city,  population])\n",
        "    \n",
        "print(tabulate(top_10_cities, headers=['CITY', 'POPULATION']))"
      ],
      "execution_count": null,
      "outputs": [
        {
          "output_type": "stream",
          "name": "stdout",
          "text": [
            "CITY      POPULATION\n",
            "------  ------------\n",
            "शंघाई        23390000\n",
            "बीजिंग       21710000\n",
            "ढाका        16800000\n",
            "मुम्बई        15414288\n",
            "कराची       14910352\n",
            "लागोस       14862000\n",
            "इस्तांबुल      14657434\n",
            "टोक्यो       14049146\n",
            "तिआंजिन      13245000\n"
          ]
        }
      ]
    },
    {
      "cell_type": "code",
      "metadata": {
        "id": "nXFmy2L8SEx9",
        "colab": {
          "base_uri": "https://localhost:8080/"
        },
        "outputId": "37941b88-b507-4a02-fa99-9efa7fa39a38"
      },
      "source": [
        "\n",
        "text = \"\"\n",
        "text1 = 'दुनिया के कुछ सबसे बड़े आबादी वाले शहर हैं '\n",
        "top_10_cities_data = results['results']['bindings']\n",
        "for idx, item in enumerate(top_10_cities_data[1:]):\n",
        "    city = item['cityLabel']['value']\n",
        "    population = item['population']['value']\n",
        "    text += city + \" की आबादी लगभग \" + population + \" है।\\n\"\n",
        "    if idx == len(top_10_cities_data[1:])-1:\n",
        "        text1 +=  city + \"।\"\n",
        "    elif idx == len(top_10_cities_data[1:])-2:\n",
        "        text1 +=  city + \" और \"\n",
        "    else:\n",
        "        text1 +=  city + \", \"\n",
        "    #text1 += city + \", \"\n",
        "print(text1)\n",
        "print(text)"
      ],
      "execution_count": null,
      "outputs": [
        {
          "output_type": "stream",
          "name": "stdout",
          "text": [
            "दुनिया के कुछ सबसे बड़े आबादी वाले शहर हैं शंघाई, बीजिंग, ढाका, मुम्बई, कराची, लागोस, इस्तांबुल, टोक्यो और तिआंजिन।\n",
            "शंघाई की आबादी लगभग 23390000 है।\n",
            "बीजिंग की आबादी लगभग 21710000 है।\n",
            "ढाका की आबादी लगभग 16800000 है।\n",
            "मुम्बई की आबादी लगभग 15414288 है।\n",
            "कराची की आबादी लगभग 14910352 है।\n",
            "लागोस की आबादी लगभग 14862000 है।\n",
            "इस्तांबुल की आबादी लगभग 14657434 है।\n",
            "टोक्यो की आबादी लगभग 14049146 है।\n",
            "तिआंजिन की आबादी लगभग 13245000 है।\n",
            "\n"
          ]
        }
      ]
    },
    {
      "cell_type": "markdown",
      "metadata": {
        "id": "inmj_ZAdb_gA"
      },
      "source": [
        "# Names of Asian countries and common languages used there\n"
      ]
    },
    {
      "cell_type": "code",
      "metadata": {
        "id": "iQMs0KqbNE82"
      },
      "source": [
        "\n",
        "query = \"\"\"\n",
        "SELECT DISTINCT ?official_language ?itemLabel_en WHERE {\n",
        "  ?item wdt:P30 wd:Q48 ;\n",
        "        wdt:P37 ?officiallanguage ;\n",
        "        wdt:P31 wd:Q6256 .\n",
        "  ?officiallanguage wdt:P424 ?langcode .\n",
        "  ?item rdfs:label ?itemLabel_ol . FILTER(lang(?itemLabel_ol)=?langcode)\n",
        "  ?item rdfs:label ?itemLabel_en . FILTER(lang(?itemLabel_en)='hi')\n",
        "  ?officiallanguage rdfs:label ?official_language . FILTER(lang(?official_language)='hi')\n",
        "}\n",
        "ORDER BY ?item ?itemLabel_lol ?official_language\n",
        "\"\"\"\n",
        "results = get_results(endpoint_url, query)\n"
      ],
      "execution_count": null,
      "outputs": []
    },
    {
      "cell_type": "code",
      "metadata": {
        "colab": {
          "base_uri": "https://localhost:8080/"
        },
        "id": "tmazBuaUNNmW",
        "outputId": "8ac657db-6ddf-4c73-cff8-13d3723dcb18"
      },
      "source": [
        "import pprint\n",
        "country_lang = []\n",
        "data = results['results']['bindings']\n",
        "for item in data:\n",
        "    city = item['official_language']['value']\n",
        "    population = item['itemLabel_en']['value']\n",
        "    country_lang.append([city,  population])\n",
        "    \n",
        "print(tabulate(country_lang, headers=['COUNTRY', 'LANGUAGE']))"
      ],
      "execution_count": null,
      "outputs": [
        {
          "output_type": "stream",
          "name": "stdout",
          "text": [
            "COUNTRY              LANGUAGE\n",
            "-------------------  --------------------\n",
            "जापानी भाषा          जापान\n",
            "आधुनिक यूनानी भाषा     साइप्रस\n",
            "तुर्कीयाई भाषा         साइप्रस\n",
            "यूनानी भाषा           साइप्रस\n",
            "कज़ाख़ भाषा            कज़ाख़िस्तान\n",
            "रूसी भाषा             कज़ाख़िस्तान\n",
            "इंडोनेशियाई भाषा       इंडोनेशिया\n",
            "जावा भाषा            इंडोनेशिया\n",
            "तुर्कीयाई भाषा         तुर्की\n",
            "अरबी भाषा            मिस्र\n",
            "फ़ारसी भाषा           पहलवी वंश\n",
            "आर्मीनियाई भाषा       नागोरो-कराबाख गणराज्य\n",
            "रूसी भाषा             नागोरो-कराबाख गणराज्य\n",
            "उज़्बेक भाषा            उज़्बेकिस्तान\n",
            "अंग्रेज़ी भाषा           सिंगापुर\n",
            "तमिल भाषा            सिंगापुर\n",
            "मलय भाषा             सिंगापुर\n",
            "अरबी भाषा            बहरीन\n",
            "खमेर भाषा             कम्बोडिया\n",
            "तेतुम भाषा             पूर्वी तिमोर\n",
            "पुर्तगाली भाषा         पूर्वी तिमोर\n",
            "अंग्रेज़ी भाषा           भारत\n",
            "हिन्दी                भारत\n",
            "मंगोल भाषा और साहित्य  मंगोलिया\n",
            "फ़ारसी भाषा           ईरान\n",
            "अरबी भाषा            इराक\n",
            "कुर्दी भाषा            इराक\n",
            "अरबी भाषा            इज़राइल\n",
            "इब्रानी भाषा          इज़राइल\n",
            "अरबी भाषा            यमन\n",
            "अरबी भाषा            जॉर्डन\n",
            "किर्गिज़ भाषा          किर्गिज़स्तान\n",
            "रूसी भाषा             किर्गिज़स्तान\n",
            "लाओ भाषा             लाओस\n",
            "अरबी भाषा            लेबनान\n",
            "महल्                  मालदीव\n",
            "मलय भाषा             मलेशिया\n",
            "बर्मी भाषा            म्यान्मार\n",
            "नेपाली भाषा           नेपाल\n",
            "अरबी भाषा            ओमान\n",
            "अंग्रेज़ी भाषा           पाकिस्तान\n",
            "अरबी भाषा            पाकिस्तान\n",
            "उर्दू                  पाकिस्तान\n",
            "अरबी भाषा            क़तर\n",
            "अरबी भाषा            सउदी अरब\n",
            "तमिल भाषा            श्रीलंका\n",
            "सिंहली भाषा           श्रीलंका\n",
            "अरबी भाषा            सीरिया\n",
            "ताजिकी भाषा          ताजिकिस्तान\n",
            "रूसी भाषा             ताजिकिस्तान\n",
            "होक्का भाषा           चीनी गणराज्य\n",
            "थाई भाषा             थाईलैण्ड\n",
            "तुर्कमेन भाषा           तुर्कमेनिस्तान\n",
            "अरबी भाषा            संयुक्त अरब अमीरात\n",
            "वियतनामी भाषा        वियतनाम\n",
            "कोरियाई भाषा         दक्षिण कोरिया\n",
            "अरबी भाषा            अफ़्गानिस्तान\n",
            "उज़्बेक भाषा            अफ़्गानिस्तान\n",
            "तुर्कमेन भाषा           अफ़्गानिस्तान\n",
            "पश्तो भाषा            अफ़्गानिस्तान\n",
            "बांग्ला भाषा           बांग्लादेश\n",
            "जोंगखा                भूटान\n",
            "अंग्रेज़ी भाषा           ब्रुनेई\n",
            "मलय भाषा             ब्रुनेई\n",
            "अंग्रेज़ी भाषा           फ़िलीपीन्स\n"
          ]
        }
      ]
    },
    {
      "cell_type": "code",
      "metadata": {
        "colab": {
          "base_uri": "https://localhost:8080/"
        },
        "id": "Am2ySZeZOOmP",
        "outputId": "ec1d9503-49a2-49ce-bde4-a2542dfe963c"
      },
      "source": [
        "country_lang = {}\n",
        "data = results['results']['bindings']\n",
        "for item in data:\n",
        "    lang = item['official_language']['value']\n",
        "    country = item['itemLabel_en']['value']\n",
        "    try:\n",
        "      country_lang[country].append(lang)\n",
        "    except:\n",
        "      country_lang[country]= [lang]\n",
        "pprint.pprint(country_lang)    \n",
        "#print(tabulate(country_lang, headers=['COUNTRY', 'LANGUAGE']))"
      ],
      "execution_count": null,
      "outputs": [
        {
          "output_type": "stream",
          "name": "stdout",
          "text": [
            "{'अफ़्गानिस्तान': ['अरबी भाषा', 'उज़्बेक भाषा', 'तुर्कमेन भाषा', 'पश्तो भाषा'],\n",
            " 'इंडोनेशिया': ['इंडोनेशियाई भाषा', 'जावा भाषा'],\n",
            " 'इज़राइल': ['अरबी भाषा', 'इब्रानी भाषा'],\n",
            " 'इराक': ['अरबी भाषा', 'कुर्दी भाषा'],\n",
            " 'ईरान': ['फ़ारसी भाषा'],\n",
            " 'उज़्बेकिस्तान': ['उज़्बेक भाषा'],\n",
            " 'ओमान': ['अरबी भाषा'],\n",
            " 'कज़ाख़िस्तान': ['कज़ाख़ भाषा', 'रूसी भाषा'],\n",
            " 'कम्बोडिया': ['खमेर भाषा'],\n",
            " 'क़तर': ['अरबी भाषा'],\n",
            " 'किर्गिज़स्तान': ['किर्गिज़ भाषा', 'रूसी भाषा'],\n",
            " 'चीनी गणराज्य': ['होक्का भाषा'],\n",
            " 'जापान': ['जापानी भाषा'],\n",
            " 'जॉर्डन': ['अरबी भाषा'],\n",
            " 'ताजिकिस्तान': ['ताजिकी भाषा', 'रूसी भाषा'],\n",
            " 'तुर्कमेनिस्तान': ['तुर्कमेन भाषा'],\n",
            " 'तुर्की': ['तुर्कीयाई भाषा'],\n",
            " 'थाईलैण्ड': ['थाई भाषा'],\n",
            " 'दक्षिण कोरिया': ['कोरियाई भाषा'],\n",
            " 'नागोरो-कराबाख गणराज्य': ['आर्मीनियाई भाषा', 'रूसी भाषा'],\n",
            " 'नेपाल': ['नेपाली भाषा'],\n",
            " 'पहलवी वंश': ['फ़ारसी भाषा'],\n",
            " 'पाकिस्तान': ['अंग्रेज़ी भाषा', 'अरबी भाषा', 'उर्दू'],\n",
            " 'पूर्वी तिमोर': ['तेतुम भाषा', 'पुर्तगाली भाषा'],\n",
            " 'फ़िलीपीन्स': ['अंग्रेज़ी भाषा'],\n",
            " 'बहरीन': ['अरबी भाषा'],\n",
            " 'बांग्लादेश': ['बांग्ला भाषा'],\n",
            " 'ब्रुनेई': ['अंग्रेज़ी भाषा', 'मलय भाषा'],\n",
            " 'भारत': ['अंग्रेज़ी भाषा', 'हिन्दी'],\n",
            " 'भूटान': ['जोंगखा'],\n",
            " 'मंगोलिया': ['मंगोल भाषा और साहित्य'],\n",
            " 'मलेशिया': ['मलय भाषा'],\n",
            " 'मालदीव': ['महल्'],\n",
            " 'मिस्र': ['अरबी भाषा'],\n",
            " 'म्यान्मार': ['बर्मी भाषा'],\n",
            " 'यमन': ['अरबी भाषा'],\n",
            " 'लाओस': ['लाओ भाषा'],\n",
            " 'लेबनान': ['अरबी भाषा'],\n",
            " 'वियतनाम': ['वियतनामी भाषा'],\n",
            " 'श्रीलंका': ['तमिल भाषा', 'सिंहली भाषा'],\n",
            " 'संयुक्त अरब अमीरात': ['अरबी भाषा'],\n",
            " 'सउदी अरब': ['अरबी भाषा'],\n",
            " 'साइप्रस': ['आधुनिक यूनानी भाषा', 'तुर्कीयाई भाषा', 'यूनानी भाषा'],\n",
            " 'सिंगापुर': ['अंग्रेज़ी भाषा', 'तमिल भाषा', 'मलय भाषा'],\n",
            " 'सीरिया': ['अरबी भाषा']}\n"
          ]
        }
      ]
    },
    {
      "cell_type": "code",
      "metadata": {
        "colab": {
          "base_uri": "https://localhost:8080/"
        },
        "id": "Z0a8vxNpO4tn",
        "outputId": "5b9cba3c-175c-4a56-e385-21b3551821af"
      },
      "source": [
        "text = \"\"\n",
        "for key in country_lang.keys():\n",
        "    if len(country_lang[key]) > 1:\n",
        "      text += key + \" में लोग \" \n",
        "      for idx, lang in enumerate(country_lang[key]):\n",
        "          lang = lang.split()[0]\n",
        "          if idx == len(country_lang[key])-1:\n",
        "              text +=  lang \n",
        "          elif idx == len(country_lang[key])-2:\n",
        "              text +=  lang + \" और \"\n",
        "          else:\n",
        "              text +=  lang + \", \"\n",
        "      text += \" बोलते हैं । \\n\"\n",
        "    else:\n",
        "        lang = country_lang[key][0]\n",
        "        text += key + \" में लोग \" + lang + \" बोलते हैं । \\n\"\n",
        "print(text)"
      ],
      "execution_count": null,
      "outputs": [
        {
          "output_type": "stream",
          "name": "stdout",
          "text": [
            "जापान में लोग जापानी भाषा बोलते हैं । \n",
            "साइप्रस में लोग आधुनिक, तुर्कीयाई और यूनानी बोलते हैं । \n",
            "कज़ाख़िस्तान में लोग कज़ाख़ और रूसी बोलते हैं । \n",
            "इंडोनेशिया में लोग इंडोनेशियाई और जावा बोलते हैं । \n",
            "तुर्की में लोग तुर्कीयाई भाषा बोलते हैं । \n",
            "मिस्र में लोग अरबी भाषा बोलते हैं । \n",
            "पहलवी वंश में लोग फ़ारसी भाषा बोलते हैं । \n",
            "नागोरो-कराबाख गणराज्य में लोग आर्मीनियाई और रूसी बोलते हैं । \n",
            "उज़्बेकिस्तान में लोग उज़्बेक भाषा बोलते हैं । \n",
            "सिंगापुर में लोग अंग्रेज़ी, तमिल और मलय बोलते हैं । \n",
            "बहरीन में लोग अरबी भाषा बोलते हैं । \n",
            "कम्बोडिया में लोग खमेर भाषा बोलते हैं । \n",
            "पूर्वी तिमोर में लोग तेतुम और पुर्तगाली बोलते हैं । \n",
            "भारत में लोग अंग्रेज़ी और हिन्दी बोलते हैं । \n",
            "मंगोलिया में लोग मंगोल भाषा और साहित्य बोलते हैं । \n",
            "ईरान में लोग फ़ारसी भाषा बोलते हैं । \n",
            "इराक में लोग अरबी और कुर्दी बोलते हैं । \n",
            "इज़राइल में लोग अरबी और इब्रानी बोलते हैं । \n",
            "यमन में लोग अरबी भाषा बोलते हैं । \n",
            "जॉर्डन में लोग अरबी भाषा बोलते हैं । \n",
            "किर्गिज़स्तान में लोग किर्गिज़ और रूसी बोलते हैं । \n",
            "लाओस में लोग लाओ भाषा बोलते हैं । \n",
            "लेबनान में लोग अरबी भाषा बोलते हैं । \n",
            "मालदीव में लोग महल् बोलते हैं । \n",
            "मलेशिया में लोग मलय भाषा बोलते हैं । \n",
            "म्यान्मार में लोग बर्मी भाषा बोलते हैं । \n",
            "नेपाल में लोग नेपाली भाषा बोलते हैं । \n",
            "ओमान में लोग अरबी भाषा बोलते हैं । \n",
            "पाकिस्तान में लोग अंग्रेज़ी, अरबी और उर्दू बोलते हैं । \n",
            "क़तर में लोग अरबी भाषा बोलते हैं । \n",
            "सउदी अरब में लोग अरबी भाषा बोलते हैं । \n",
            "श्रीलंका में लोग तमिल और सिंहली बोलते हैं । \n",
            "सीरिया में लोग अरबी भाषा बोलते हैं । \n",
            "ताजिकिस्तान में लोग ताजिकी और रूसी बोलते हैं । \n",
            "चीनी गणराज्य में लोग होक्का भाषा बोलते हैं । \n",
            "थाईलैण्ड में लोग थाई भाषा बोलते हैं । \n",
            "तुर्कमेनिस्तान में लोग तुर्कमेन भाषा बोलते हैं । \n",
            "संयुक्त अरब अमीरात में लोग अरबी भाषा बोलते हैं । \n",
            "वियतनाम में लोग वियतनामी भाषा बोलते हैं । \n",
            "दक्षिण कोरिया में लोग कोरियाई भाषा बोलते हैं । \n",
            "अफ़्गानिस्तान में लोग अरबी, उज़्बेक, तुर्कमेन और पश्तो बोलते हैं । \n",
            "बांग्लादेश में लोग बांग्ला भाषा बोलते हैं । \n",
            "भूटान में लोग जोंगखा बोलते हैं । \n",
            "ब्रुनेई में लोग अंग्रेज़ी और मलय बोलते हैं । \n",
            "फ़िलीपीन्स में लोग अंग्रेज़ी भाषा बोलते हैं । \n",
            "\n"
          ]
        }
      ]
    }
  ]
}